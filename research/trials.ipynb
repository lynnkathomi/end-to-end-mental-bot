{
 "cells": [
  {
   "cell_type": "code",
   "execution_count": 1,
   "metadata": {},
   "outputs": [
    {
     "name": "stdout",
     "output_type": "stream",
     "text": [
      "ok\n"
     ]
    }
   ],
   "source": [
    "print(\"ok\")"
   ]
  },
  {
   "cell_type": "code",
   "execution_count": 1,
   "metadata": {},
   "outputs": [
    {
     "data": {
      "text/plain": [
       "'c:\\\\Users\\\\LYNN\\\\end-to-end-mental-bot\\\\research'"
      ]
     },
     "execution_count": 1,
     "metadata": {},
     "output_type": "execute_result"
    }
   ],
   "source": [
    "%pwd"
   ]
  },
  {
   "cell_type": "code",
   "execution_count": 2,
   "metadata": {},
   "outputs": [],
   "source": [
    "from langchain.document_loaders import PyPDFDirectoryLoader\n",
    "from langchain.text_splitter import RecursiveCharacterTextSplitter\n"
   ]
  },
  {
   "cell_type": "code",
   "execution_count": 3,
   "metadata": {},
   "outputs": [],
   "source": [
    "def load_pdf_files(data):\n",
    "    #load pdf documents\n",
    "    loader=DirectoryLoader(data, glob=\"*.pdf\",loader_cls=PyPDFDirectoryLoader)\n",
    "    documents=loader.load()\n",
    "    return documents"
   ]
  },
  {
   "cell_type": "code",
   "execution_count": 10,
   "metadata": {},
   "outputs": [
    {
     "name": "stdout",
     "output_type": "stream",
     "text": [
      "Error loading PDF files: Directory 'Data/' does not exist\n"
     ]
    }
   ],
   "source": [
    "from langchain.document_loaders import DirectoryLoader\n",
    "from langchain.document_loaders import PyPDFLoader\n",
    "import os\n",
    "\n",
    "def load_pdf_files(data):\n",
    "    try:\n",
    "        # Check if directory exists\n",
    "        if not os.path.exists(data):\n",
    "            raise FileNotFoundError(f\"Directory '{data}' does not exist\")\n",
    "        \n",
    "        # Initialize loader\n",
    "        loader = DirectoryLoader(\n",
    "            data, \n",
    "            glob=\"*.pdf\",\n",
    "            loader_cls=PyPDFLoader\n",
    "        )\n",
    "        \n",
    "        # Load documents\n",
    "        documents = loader.load()\n",
    "        \n",
    "        if not documents:\n",
    "            print(\"No PDF files found in the specified directory\")\n",
    "            return []\n",
    "            \n",
    "        print(f\"Successfully loaded {len(documents)} PDF documents\")\n",
    "        return documents\n",
    "        \n",
    "    except Exception as e:\n",
    "        print(f\"Error loading PDF files: {str(e)}\")\n",
    "        return []\n",
    "\n",
    "# Now you can use it\n",
    "extracted_data = load_pdf_files(data='Data/')"
   ]
  },
  {
   "cell_type": "code",
   "execution_count": 11,
   "metadata": {},
   "outputs": [
    {
     "name": "stdout",
     "output_type": "stream",
     "text": [
      "Created 'Data' directory\n"
     ]
    }
   ],
   "source": [
    "import os\n",
    "\n",
    "# Create Data directory if it doesn't exist\n",
    "if not os.path.exists('Data'):\n",
    "    os.makedirs('Data')\n",
    "    print(\"Created 'Data' directory\")"
   ]
  },
  {
   "cell_type": "code",
   "execution_count": 12,
   "metadata": {},
   "outputs": [
    {
     "name": "stdout",
     "output_type": "stream",
     "text": [
      "Contents of Data directory: ['YouthMentalHealthGuide.pdf']\n"
     ]
    }
   ],
   "source": [
    "# Check contents of Data directory\n",
    "print(\"Contents of Data directory:\", os.listdir('Data'))"
   ]
  },
  {
   "cell_type": "code",
   "execution_count": 13,
   "metadata": {},
   "outputs": [
    {
     "name": "stdout",
     "output_type": "stream",
     "text": [
      "Contents of Data directory: ['YouthMentalHealthGuide.pdf']\n",
      "Successfully loaded 3 PDF documents\n"
     ]
    }
   ],
   "source": [
    "from langchain_community.document_loaders import DirectoryLoader\n",
    "from langchain_community.document_loaders import PyPDFLoader\n",
    "def load_pdf_files(data):\n",
    "    try:\n",
    "        # Check if directory exists\n",
    "        if not os.path.exists(data):\n",
    "            raise FileNotFoundError(f\"Directory '{data}' does not exist\")\n",
    "\n",
    "        # Initialize loader\n",
    "        loader = DirectoryLoader(\n",
    "            data,\n",
    "            glob=\"*.pdf\",\n",
    "            loader_cls=PyPDFLoader\n",
    "        )\n",
    "\n",
    "        # Load documents\n",
    "        documents = loader.load()\n",
    "\n",
    "        if not documents:\n",
    "            print(\"No PDF files found in the specified directory\")\n",
    "            return []\n",
    "\n",
    "        print(f\"Successfully loaded {len(documents)} PDF documents\")\n",
    "        return documents\n",
    "\n",
    "    except Exception as e:\n",
    "        print(f\"Error loading PDF files: {str(e)}\")\n",
    "        return []\n",
    "\n",
    "# Now check if there are any PDF files in the Data directory\n",
    "print(\"Contents of Data directory:\", os.listdir('Data'))\n",
    "\n",
    "# Try to load the PDF files\n",
    "extracted_data = load_pdf_files(data='Data/')"
   ]
  },
  {
   "cell_type": "code",
   "execution_count": 14,
   "metadata": {},
   "outputs": [
    {
     "data": {
      "text/plain": [
       "[Document(metadata={'source': 'Data\\\\YouthMentalHealthGuide.pdf', 'page': 0, 'page_label': '1'}, page_content='Youth Mental Health Guide  \\nIntroduction \\nMental health is a crucial aspect of overall well-being, especially for young people \\nnavigating the challenges of adolescence and early adulthood. This guide provides \\ncomprehensive information about common mental health issues affecting youth and offers \\npractical solutions and resources for support. \\nCommon Mental Health Challenges in Youth \\nAnxiety \\nCommon signs of anxiety: \\n• Excessive worry about daily situations \\n• Physical symptoms (rapid heartbeat, sweating, trembling) \\n• Difficulty concentrating \\n• Sleep problems \\n• Social withdrawal \\nDepression \\nWarning signs of depression: \\n• Persistent sadness or emptiness \\n• Loss of interest in activities \\n• Changes in sleeping or eating patterns \\n• Fatigue and low energy \\n• Feelings of worthlessness \\n• Thoughts of self-harm \\nAcademic Stress \\nAcademic pressure can manifest as: \\n• Overwhelming worry about grades \\n• Perfectionism \\n• Test anxiety \\n• Fear of failure \\n• Physical exhaustion \\nSocial Media and Digital Pressure \\nImpact of social media: \\n• FOMO (Fear of Missing Out) \\n• Cyberbullying '),\n",
       " Document(metadata={'source': 'Data\\\\YouthMentalHealthGuide.pdf', 'page': 1, 'page_label': '2'}, page_content=\"• Unrealistic comparisons \\n• Online harassment \\n• Digital addiction \\nCoping Strategies and Solutions \\nSelf-Care Practices \\nEssential self-care strategies: \\n• Regular exercise and physical activity \\n• Healthy sleep habits (8-10 hours per night) \\n• Balanced nutrition \\n• Mindfulness and meditation \\n• Time management \\n• Hobby engagement \\n• Regular breaks from social media \\nWhen and How to Seek Professional Help \\nIt's important to seek professional help when: \\n• Symptoms persist for more than two weeks \\n• Daily functioning is impaired \\n• There are thoughts of self-harm \\n• Anxiety or depression interferes with relationships \\n• Coping mechanisms aren't working \\nResources and Support Systems \\nAvailable support options: \\n• School counselors \\n• Mental health professionals \\n• Crisis helplines \\n• Support groups \\n• Online therapy platforms \\n• Family doctor \\n• Trusted teachers or mentors \\nPrevention Strategies \\nPreventive measures for maintaining mental health: \\n• Building strong support networks \\n• Developing healthy coping mechanisms \"),\n",
       " Document(metadata={'source': 'Data\\\\YouthMentalHealthGuide.pdf', 'page': 2, 'page_label': '3'}, page_content='• Regular exercise and physical activity \\n• Maintaining work-life balance \\n• Setting realistic goals \\n• Learning stress management techniques \\n• Building resilience through positive experiences \\nGuidelines for Parents and Guardians \\nHow to support young people: \\n• Create open communication channels \\n• Listen without judgment \\n• Watch for warning signs \\n• Encourage professional help when needed \\n• Support healthy lifestyle choices \\n• Set realistic expectations \\n• Model good mental health practices \\nEmergency Resources \\nFor immediate help: \\n• National Suicide Prevention Lifeline: 988 \\n• Crisis Text Line: Text HOME to 741741 \\n• Emergency Services: 911 \\n• Local Emergency Mental Health Services \\n• School Counseling Services \\nConclusion \\nMental health challenges are common and nothing to be ashamed of. With the right support, \\ncoping strategies, and resources, young people can effectively manage their mental health \\nand build resilience for the future. Remember, seeking help is a sign of strength, not \\nweakness. ')]"
      ]
     },
     "execution_count": 14,
     "metadata": {},
     "output_type": "execute_result"
    }
   ],
   "source": [
    "#extracted_data\n"
   ]
  },
  {
   "cell_type": "code",
   "execution_count": 52,
   "metadata": {},
   "outputs": [],
   "source": [
    "#spilt the data into text chuncks\n",
    "def text_split (extracted_data):\n",
    "    text_splitter = RecursiveCharacterTextSplitter(chunk_size=500,chunck_overlap=20)\n",
    "    text_chunks = text_splitter.split(extracted_data)\n",
    "    return text_chunks"
   ]
  },
  {
   "cell_type": "code",
   "execution_count": 19,
   "metadata": {},
   "outputs": [
    {
     "name": "stdout",
     "output_type": "stream",
     "text": [
      "Length of the Text Chunks: 6\n"
     ]
    }
   ],
   "source": [
    "\n",
    "text_chunks = text_split(extracted_data)\n",
    "print(\"Length of the Text Chunks:\", len(text_chunks))"
   ]
  },
  {
   "cell_type": "code",
   "execution_count": 23,
   "metadata": {},
   "outputs": [],
   "source": [
    "from langchain.embeddings import HuggingFaceEmbeddings"
   ]
  },
  {
   "cell_type": "code",
   "execution_count": 10,
   "metadata": {},
   "outputs": [],
   "source": [
    "def download_hugging_face_embeddings():\n",
    "    embeddings = HuggingFaceEmbeddings(model_name='sentence-transformers/paraphrase-MiniLM-L6-v2')\n",
    "    return embeddings"
   ]
  },
  {
   "cell_type": "code",
   "execution_count": 19,
   "metadata": {},
   "outputs": [],
   "source": [
    "from huggingface_hub import hf_hub_download\n",
    "\n",
    "\n"
   ]
  },
  {
   "cell_type": "code",
   "execution_count": 24,
   "metadata": {},
   "outputs": [],
   "source": [
    "embeddings = download_hugging_face_embeddings()"
   ]
  },
  {
   "cell_type": "code",
   "execution_count": 26,
   "metadata": {},
   "outputs": [
    {
     "name": "stdout",
     "output_type": "stream",
     "text": [
      "Length 384\n"
     ]
    }
   ],
   "source": [
    "query_result = embeddings.embed_query(\"Hello World\")\n",
    "print(\"Length\", len(query_result))"
   ]
  },
  {
   "cell_type": "code",
   "execution_count": 28,
   "metadata": {},
   "outputs": [],
   "source": [
    "#query_result"
   ]
  },
  {
   "cell_type": "code",
   "execution_count": 30,
   "metadata": {},
   "outputs": [
    {
     "data": {
      "text/plain": [
       "True"
      ]
     },
     "execution_count": 30,
     "metadata": {},
     "output_type": "execute_result"
    }
   ],
   "source": [
    "from dotenv import load_dotenv\n",
    "load_dotenv()"
   ]
  },
  {
   "cell_type": "code",
   "execution_count": 38,
   "metadata": {},
   "outputs": [],
   "source": [
    "PINECONE_API_KEY = os.getenv(\"PINECONE_API_KEY\")"
   ]
  },
  {
   "cell_type": "code",
   "execution_count": 44,
   "metadata": {},
   "outputs": [],
   "source": [
    "from pinecone.grpc import PineconeGRPC as Pinecone\n",
    "from pinecone import Pinecone, ServerlessSpec\n",
    "import os\n",
    "\n",
    "pc = Pinecone(api_key=PINECONE_API_KEY)\n",
    "index_name = \"mentalbot\"\n",
    "\n",
    "pc.create_index(\n",
    "    name=index_name,\n",
    "    dimension=384, \n",
    "    metric=\"cosine\", \n",
    "    spec=ServerlessSpec(\n",
    "        cloud=\"aws\",\n",
    "        region=\"us-east-1\"\n",
    "    ) \n",
    ")"
   ]
  },
  {
   "cell_type": "code",
   "execution_count": 39,
   "metadata": {},
   "outputs": [],
   "source": [
    "import os\n",
    "os.environ[PINECONE_API_KEY]=PINECONE_API_KEY"
   ]
  },
  {
   "cell_type": "code",
   "execution_count": null,
   "metadata": {},
   "outputs": [],
   "source": []
  }
 ],
 "metadata": {
  "kernelspec": {
   "display_name": "mental-bot",
   "language": "python",
   "name": "python3"
  },
  "language_info": {
   "codemirror_mode": {
    "name": "ipython",
    "version": 3
   },
   "file_extension": ".py",
   "mimetype": "text/x-python",
   "name": "python",
   "nbconvert_exporter": "python",
   "pygments_lexer": "ipython3",
   "version": "3.10.16"
  }
 },
 "nbformat": 4,
 "nbformat_minor": 2
}
